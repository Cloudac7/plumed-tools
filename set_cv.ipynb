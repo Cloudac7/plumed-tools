{
 "cells": [
  {
   "cell_type": "code",
   "execution_count": 1,
   "metadata": {},
   "outputs": [],
   "source": [
    "from plumed_tools.plumed import PlumedBuilder, PlumedInput"
   ]
  },
  {
   "cell_type": "code",
   "execution_count": 2,
   "metadata": {},
   "outputs": [],
   "source": [
    "from ase.io import read"
   ]
  },
  {
   "cell_type": "markdown",
   "metadata": {},
   "source": [
    "# Load structure\n",
    "\n",
    "Structure file needed is loaded with `ase.io.read` as `ase.Atoms`."
   ]
  },
  {
   "cell_type": "code",
   "execution_count": 3,
   "metadata": {},
   "outputs": [],
   "source": [
    "atoms = read(\"/Users/cloudac7/Project/zeolites/MFI/CCu10O193Si96_0.cif\")"
   ]
  },
  {
   "cell_type": "markdown",
   "metadata": {},
   "source": [
    "## Set builder\n",
    "\n",
    "Set `PlumedBuilder` for `atoms`."
   ]
  },
  {
   "cell_type": "code",
   "execution_count": 4,
   "metadata": {},
   "outputs": [],
   "source": [
    "pb = PlumedBuilder(atoms, units=None)"
   ]
  },
  {
   "cell_type": "code",
   "execution_count": 5,
   "metadata": {},
   "outputs": [],
   "source": [
    "co = pb.add_group(ATOMS=[-1, -2], LABEL=\"CO\")"
   ]
  },
  {
   "cell_type": "code",
   "execution_count": 6,
   "metadata": {},
   "outputs": [],
   "source": [
    "cu = pb.add_group(ATOMS=list(range(288, len(atoms) - 2)), LABEL=\"Cu\")"
   ]
  },
  {
   "cell_type": "code",
   "execution_count": 7,
   "metadata": {},
   "outputs": [
    {
     "name": "stdout",
     "output_type": "stream",
     "text": [
      "[GROUP(LABEL='Cu', ATOMS=[288, 289, 290, 291, 292, 293, 294, 295, 296, 297], REMOVE=None, SORT=False, UNIQUE=False, NDX_FILE=None, NDX_GROUP=None)]\n"
     ]
    },
    {
     "data": {
      "text/plain": [
       "COM(LABEL='Cu_com', ATOMS=[GROUP(LABEL='Cu', ATOMS=[288, 289, 290, 291, 292, 293, 294, 295, 296, 297], REMOVE=None, SORT=False, UNIQUE=False, NDX_FILE=None, NDX_GROUP=None)], NOPBC=False, MASS=False, PHASES=False, WEIGHTS=None, SET_CHARGE=None, SET_MASS=None)"
      ]
     },
     "execution_count": 7,
     "metadata": {},
     "output_type": "execute_result"
    }
   ],
   "source": [
    "pb.add_com(LABEL=\"Cu_com\", ATOMS=[pb.groups[-1]])"
   ]
  },
  {
   "cell_type": "code",
   "execution_count": 8,
   "metadata": {},
   "outputs": [
    {
     "data": {
      "text/plain": [
       "[GROUP(LABEL='CO', ATOMS=[299, 298], REMOVE=None, SORT=False, UNIQUE=False, NDX_FILE=None, NDX_GROUP=None),\n",
       " GROUP(LABEL='Cu', ATOMS=[288, 289, 290, 291, 292, 293, 294, 295, 296, 297], REMOVE=None, SORT=False, UNIQUE=False, NDX_FILE=None, NDX_GROUP=None),\n",
       " COM(LABEL='Cu_com', ATOMS=[GROUP(LABEL='Cu', ATOMS=[288, 289, 290, 291, 292, 293, 294, 295, 296, 297], REMOVE=None, SORT=False, UNIQUE=False, NDX_FILE=None, NDX_GROUP=None)], NOPBC=False, MASS=False, PHASES=False, WEIGHTS=None, SET_CHARGE=None, SET_MASS=None)]"
      ]
     },
     "execution_count": 8,
     "metadata": {},
     "output_type": "execute_result"
    }
   ],
   "source": [
    "pb.groups"
   ]
  },
  {
   "cell_type": "code",
   "execution_count": 9,
   "metadata": {},
   "outputs": [
    {
     "data": {
      "text/plain": [
       "DISTANCE(ATOMS=GROUP(LABEL='CO', ATOMS=[299, 298], REMOVE=None, SORT=False, UNIQUE=False, NDX_FILE=None, NDX_GROUP=None), LABEL=None, NUMERICAL_DERIVATIVES=False, NOPBC=False, COMPONENTS=False, SCALED_COMPONENTS=False)"
      ]
     },
     "execution_count": 9,
     "metadata": {},
     "output_type": "execute_result"
    }
   ],
   "source": [
    "pb.add_distance(ATOMS=pb.groups[0])"
   ]
  },
  {
   "cell_type": "code",
   "execution_count": 10,
   "metadata": {},
   "outputs": [
    {
     "data": {
      "text/plain": [
       "GROUP(LABEL='CO', ATOMS=[299, 298], REMOVE=None, SORT=False, UNIQUE=False, NDX_FILE=None, NDX_GROUP=None)"
      ]
     },
     "execution_count": 10,
     "metadata": {},
     "output_type": "execute_result"
    }
   ],
   "source": [
    "pb.actions.distance[0].ATOMS"
   ]
  },
  {
   "cell_type": "code",
   "execution_count": 11,
   "metadata": {},
   "outputs": [
    {
     "data": {
      "text/plain": [
       "[DISTANCE(ATOMS=GROUP(LABEL='CO', ATOMS=[299, 298], REMOVE=None, SORT=False, UNIQUE=False, NDX_FILE=None, NDX_GROUP=None), LABEL=None, NUMERICAL_DERIVATIVES=False, NOPBC=False, COMPONENTS=False, SCALED_COMPONENTS=False)]"
      ]
     },
     "execution_count": 11,
     "metadata": {},
     "output_type": "execute_result"
    }
   ],
   "source": [
    "pb.actions.distance"
   ]
  },
  {
   "cell_type": "code",
   "execution_count": 12,
   "metadata": {},
   "outputs": [],
   "source": [
    "from plumed_tools.actions.colvar import DISTANCE"
   ]
  },
  {
   "cell_type": "code",
   "execution_count": 13,
   "metadata": {},
   "outputs": [
    {
     "data": {
      "text/plain": [
       "GROUP(LABEL='CO', ATOMS=[299, 298], REMOVE=None, SORT=False, UNIQUE=False, NDX_FILE=None, NDX_GROUP=None)"
      ]
     },
     "execution_count": 13,
     "metadata": {},
     "output_type": "execute_result"
    }
   ],
   "source": [
    "pb.groups[0]"
   ]
  },
  {
   "cell_type": "code",
   "execution_count": 14,
   "metadata": {},
   "outputs": [],
   "source": [
    "from plumed_tools.plumed import PlumedFile"
   ]
  },
  {
   "cell_type": "code",
   "execution_count": 15,
   "metadata": {},
   "outputs": [],
   "source": [
    "pi = pb.build()"
   ]
  },
  {
   "cell_type": "code",
   "execution_count": 16,
   "metadata": {},
   "outputs": [],
   "source": [
    "from plumed_tools.actions.analysis import PRINT\n",
    "from plumed_tools.actions.bias import (\n",
    "    LOWER_WALLS, UPPER_WALLS, OPES_METAD, OPES_METAD_EXPLORE, METAD\n",
    ")\n",
    "from plumed_tools.actions.colvar import (\n",
    "    DISTANCE, ANGLE, TORSION, COORDINATION\n",
    ")\n",
    "from plumed_tools.actions.generic import UNITS\n",
    "from plumed_tools.actions.group import GROUP, COM, Labeled"
   ]
  },
  {
   "cell_type": "code",
   "execution_count": 17,
   "metadata": {},
   "outputs": [],
   "source": [
    "from pydantic import BaseModel"
   ]
  },
  {
   "cell_type": "code",
   "execution_count": 18,
   "metadata": {},
   "outputs": [],
   "source": [
    "pf = PlumedFile(pi)"
   ]
  },
  {
   "cell_type": "code",
   "execution_count": 19,
   "metadata": {},
   "outputs": [
    {
     "name": "stdout",
     "output_type": "stream",
     "text": [
      "ATOMS {'LABEL': 'CO', 'ATOMS': [299, 298]}\n",
      "LABEL action_1\n"
     ]
    },
    {
     "data": {
      "text/plain": [
       "['# PLUMED input file generated by plumed_tools\\n',\n",
       " '# Define Units\\n',\n",
       " 'UNITS \\n',\n",
       " '# Define Groups\\n',\n",
       " 'GROUPS LABEL=CO ATOMS=300,299\\n',\n",
       " 'GROUPS LABEL=Cu ATOMS=289,290,291,292,293,294,295,296,297,298\\n',\n",
       " 'COM LABEL=Cu_com ATOMS=Cu\\n',\n",
       " '# Define Actions\\n',\n",
       " 'DISTANCE LABEL=action_1 ATOMS=CO']"
      ]
     },
     "execution_count": 19,
     "metadata": {},
     "output_type": "execute_result"
    }
   ],
   "source": [
    "pf.generate()"
   ]
  },
  {
   "cell_type": "code",
   "execution_count": null,
   "metadata": {},
   "outputs": [],
   "source": []
  }
 ],
 "metadata": {
  "kernelspec": {
   "display_name": "plumed-tools-Y4UGGekG-py3.10",
   "language": "python",
   "name": "python3"
  },
  "language_info": {
   "codemirror_mode": {
    "name": "ipython",
    "version": 3
   },
   "file_extension": ".py",
   "mimetype": "text/x-python",
   "name": "python",
   "nbconvert_exporter": "python",
   "pygments_lexer": "ipython3",
   "version": "3.11.9"
  }
 },
 "nbformat": 4,
 "nbformat_minor": 2
}
